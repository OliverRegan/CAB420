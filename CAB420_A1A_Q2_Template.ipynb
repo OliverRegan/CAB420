{
 "cells": [
  {
   "cell_type": "markdown",
   "id": "8ed2c81f",
   "metadata": {},
   "source": [
    "# CAB420 Assignment 1A Question 2: Template\n",
    "Simon Denman (s.denman@qut.edu.au)\n",
    "\n",
    "## Overview\n",
    "\n",
    "This notebook provides a brief template for CAB420 Assignment 1A, Question 2. It simply implements the data loading, and splitting the data into the predictors and response. You are to use the data splits defined here in your response.\n",
    "\n",
    "**Note: File paths used in this template may need to change for your local machine. Please set these based on your local file system structure.**"
   ]
  },
  {
   "cell_type": "code",
   "execution_count": 1,
   "id": "7466e23a",
   "metadata": {},
   "outputs": [],
   "source": [
    "import pandas\n",
    "\n",
    "# load data\n",
    "train = pandas.read_csv('../Data/Q2/training.csv')\n",
    "val = pandas.read_csv('../Data/Q2/validation.csv')\n",
    "test = pandas.read_csv('../Data/Q2/testing.csv')\n",
    "\n",
    "# pull out X and y data, convert to numpy\n",
    "X_train = train.iloc[:,1:].to_numpy()\n",
    "Y_train = train.iloc[:,0].to_numpy()\n",
    "X_val = val.iloc[:,1:].to_numpy()\n",
    "Y_val = val.iloc[:,0].to_numpy()\n",
    "X_test = test.iloc[:,1:].to_numpy()\n",
    "Y_test = test.iloc[:,0].to_numpy()"
   ]
  },
  {
   "cell_type": "code",
   "execution_count": null,
   "id": "33a649f4",
   "metadata": {},
   "outputs": [],
   "source": []
  }
 ],
 "metadata": {
  "kernelspec": {
   "display_name": "Python 3 (ipykernel)",
   "language": "python",
   "name": "python3"
  },
  "language_info": {
   "codemirror_mode": {
    "name": "ipython",
    "version": 3
   },
   "file_extension": ".py",
   "mimetype": "text/x-python",
   "name": "python",
   "nbconvert_exporter": "python",
   "pygments_lexer": "ipython3",
   "version": "3.8.10"
  }
 },
 "nbformat": 4,
 "nbformat_minor": 5
}
